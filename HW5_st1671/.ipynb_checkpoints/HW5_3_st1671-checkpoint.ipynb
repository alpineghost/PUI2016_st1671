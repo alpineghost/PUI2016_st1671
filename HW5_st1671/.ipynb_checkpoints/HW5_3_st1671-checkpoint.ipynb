{
 "cells": [
  {
   "cell_type": "markdown",
   "metadata": {},
   "source": [
    "## Do diets help lose more fat than the exercise?     \n",
    "\n",
    "#### Experimental setup: you have a test and a control sample.\n",
    "\n",
    "#### Null hypothesis: The average fat lose of people who go diet will be equal or less than the average far lose of people do exercise. Choose Significance level of 0.05.    \n",
    "\n",
    "$ H_0 :   Diet_{fatlose}   \\leq    Exercise_{fatlose} $   \n",
    "\n",
    "$ \\alpha = 0.05 $ \n",
    "\n",
    "## Do American trust the president?    \n",
    "\n",
    "#### POLL RESULTS: On May 16, 1994, Newsweek reported the results of a public opinion poll that asked: “From everything you know about Bill Clinton, does he have the honesty and integrity you expect in a president?” (p. 23). Poll surveyed 518 adults and 233, or 0.45 of them answered yes.\n",
    "\n",
    "#### Null hypothesis: Percentage of Americans who trusted Bill Clinton was equal of more than those who distrusted him. Choose significance level of 0.05.    \n",
    "\n",
    "$ H_0: P_{trust} < P_{distrust}$     \n",
    "\n",
    "$\\alpha = 0.05 $\n",
    "\n",
    "## Effectiveness of nicotine patches to quit smoking.      \n",
    "\n",
    "#### Experimental setup: measure cessation rates for smokers randomly assigned to use a nicotine patch versus a placebo patch.\n",
    "\n",
    "#### Null hypothesis: The average cessation rate for smokers who used nicotine pathes is less than or equal to the average cessation rate for smokers who used placebo pathes. Choose significance level of 0.05.\n",
    "\n",
    "$ H_0 : R_{nicotine} \\leq R_{placebo} $    \n",
    "\n",
    "$\\alpha = 0.05$    \n",
    "\n",
    "## Quantify the danger of smoking for pregnant women.    \n",
    "\n",
    "#### Experimemtal setup: measure IQ of children at ages 1, 2, 3, and 4 years of age.\n",
    "\n",
    "#### Null hypothesis: The IQ of children (at the age range of 1 to 4 years old) whose mothers were smoking during their pregnancy is the same or higher than those whose mothers didn't smoke during pregnancy. Choose significance level of 0.05.     \n",
    "\n",
    "$H_0 : IQ_{Mothoersmoke} \\geq IQ_{Mothernonsmoke}$     \n",
    "\n",
    "$\\alpha = 0.05$"
   ]
  },
  {
   "cell_type": "code",
   "execution_count": null,
   "metadata": {
    "collapsed": true
   },
   "outputs": [],
   "source": []
  }
 ],
 "metadata": {
  "kernelspec": {
   "display_name": "PUI2016_Python2",
   "language": "python",
   "name": "pui2016_python2"
  },
  "language_info": {
   "codemirror_mode": {
    "name": "ipython",
    "version": 2
   },
   "file_extension": ".py",
   "mimetype": "text/x-python",
   "name": "python",
   "nbconvert_exporter": "python",
   "pygments_lexer": "ipython2",
   "version": "2.7.12"
  }
 },
 "nbformat": 4,
 "nbformat_minor": 0
}
