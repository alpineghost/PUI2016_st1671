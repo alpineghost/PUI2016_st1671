{
 "cells": [
  {
   "cell_type": "markdown",
   "metadata": {},
   "source": [
    "| Statistical Analyses | IV(S) | IVS type(s) | DV(s) | DV Types(s) | Control Var | Control Var type | Question to be answered | H0 | alpha | Link to paper |\n",
    "| ------| ------ | ------ | ------ | ------ | ------ | ------ | ------ | ------ | ------ | ------ |\n",
    "| ANCOVA | 1,Snuff users or not | Categorical | 1,FMD | Numerical continuous | 1,age | continuous | Do oral tabacco use affects the endothelial function | snuff associate with increased endothelial function | 0.05 | http://journals.plos.org/plosone/article?id=10.1371/journal.pone.0160205 |"
   ]
  },
  {
   "cell_type": "code",
   "execution_count": null,
   "metadata": {
    "collapsed": true
   },
   "outputs": [],
   "source": []
  }
 ],
 "metadata": {
  "kernelspec": {
   "display_name": "PUI2016_Python2",
   "language": "python",
   "name": "pui2016_python2"
  },
  "language_info": {
   "codemirror_mode": {
    "name": "ipython",
    "version": 2
   },
   "file_extension": ".py",
   "mimetype": "text/x-python",
   "name": "python",
   "nbconvert_exporter": "python",
   "pygments_lexer": "ipython2",
   "version": "2.7.12"
  }
 },
 "nbformat": 4,
 "nbformat_minor": 0
}
