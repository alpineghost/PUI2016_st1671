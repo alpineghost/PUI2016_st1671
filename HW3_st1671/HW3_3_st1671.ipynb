{
 "cells": [
  {
   "cell_type": "markdown",
   "metadata": {},
   "source": [
    "## NULL HYPOTHESIS: \n",
    "### The mean of sample \"time.txt\" is greater than 34.<br />\n",
    " _$H_0$_ : ${Time_{\\mathrm{mean}}} <= 34 $  <br />\n",
    " _$H_1$_ : ${Time_{\\mathrm{mean}}} > 34 $  <br />\n",
    "<br />\n",
    "or identically: \n",
    "<br />\n",
    "_$H_0$_ : ${Time_{\\mathrm{mean}}} - 34 <= 0 $  <br />\n",
    "_$H_1$_ : ${Time_{\\mathrm{mean}}} - 34 > 0 $   <br />\n",
    "#### I will use a significance level $\\alpha=0.05 $   <br />\n",
    "#### Which means i want the probability of getting a result at least as significant as mine to be less then 5%"
   ]
  },
  {
   "cell_type": "code",
   "execution_count": 3,
   "metadata": {
    "collapsed": true
   },
   "outputs": [],
   "source": [
    "import numpy as np"
   ]
  },
  {
   "cell_type": "code",
   "execution_count": 1,
   "metadata": {
    "collapsed": false
   },
   "outputs": [
    {
     "name": "stdout",
     "output_type": "stream",
     "text": [
      "  % Total    % Received % Xferd  Average Speed   Time    Time     Time  Current\n",
      "                                 Dload  Upload   Total   Spent    Left  Speed\n",
      "107  1179  107  1179    0     0   7333      0 --:--:-- --:--:-- --:--:-- 43666\n"
     ]
    }
   ],
   "source": [
    "!curl -O https://raw.githubusercontent.com/fedhere/PUI2016_fb55/master/Lab3_fb55/times.txt"
   ]
  },
  {
   "cell_type": "code",
   "execution_count": 4,
   "metadata": {
    "collapsed": false
   },
   "outputs": [],
   "source": [
    "time = np.loadtxt('times.txt')"
   ]
  },
  {
   "cell_type": "code",
   "execution_count": 12,
   "metadata": {
    "collapsed": false
   },
   "outputs": [
    {
     "name": "stdout",
     "output_type": "stream",
     "text": [
      "34.4661616883\n"
     ]
    }
   ],
   "source": [
    "stdv = np.std(time)\n",
    "mean = np.mean(time)\n",
    "print mean\n",
    "n = len(time)"
   ]
  },
  {
   "cell_type": "code",
   "execution_count": 13,
   "metadata": {
    "collapsed": true
   },
   "outputs": [],
   "source": [
    "Z =(mean - 34)/(stdv/(n**0.5))"
   ]
  },
  {
   "cell_type": "code",
   "execution_count": 14,
   "metadata": {
    "collapsed": false
   },
   "outputs": [
    {
     "data": {
      "text/plain": [
       "0.65642670034907591"
      ]
     },
     "execution_count": 14,
     "metadata": {},
     "output_type": "execute_result"
    }
   ],
   "source": [
    "Z"
   ]
  },
  {
   "cell_type": "markdown",
   "metadata": {},
   "source": [
    "#### In this example, we are performing an upper tailed test (H1: μ> 34), with a Z test statistic and selected α =0.05.   Reject H0 if Z > 1.645 <br /> Since z < 1.645, we cannot reject the Null Hypothesis.  Not enough evidence is available to suggest the null is false at the 95% confidence level."
   ]
  },
  {
   "cell_type": "code",
   "execution_count": null,
   "metadata": {
    "collapsed": true
   },
   "outputs": [],
   "source": []
  }
 ],
 "metadata": {
  "kernelspec": {
   "display_name": "PUI2016_Python2",
   "language": "python",
   "name": "pui2016_python2"
  },
  "language_info": {
   "codemirror_mode": {
    "name": "ipython",
    "version": 2
   },
   "file_extension": ".py",
   "mimetype": "text/x-python",
   "name": "python",
   "nbconvert_exporter": "python",
   "pygments_lexer": "ipython2",
   "version": "2.7.12"
  }
 },
 "nbformat": 4,
 "nbformat_minor": 0
}
